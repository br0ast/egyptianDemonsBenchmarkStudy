{
 "cells": [
  {
   "cell_type": "markdown",
   "id": "9d20d926-1e85-446a-8d93-b0a52e904952",
   "metadata": {},
   "source": [
    "# Testing of the CQs on the demon_demo dataset\n",
    "\n",
    "## Importing the dataset"
   ]
  },
  {
   "cell_type": "code",
   "execution_count": 55,
   "id": "cb298f5d-eebc-4f85-934b-b811086384b1",
   "metadata": {},
   "outputs": [
    {
     "data": {
      "text/plain": [
       "<Graph identifier=Ne7f54f946bf14034a84efb5e5d3f0325 (<class 'rdflib.graph.Graph'>)>"
      ]
     },
     "execution_count": 55,
     "metadata": {},
     "output_type": "execute_result"
    }
   ],
   "source": [
    "from rdflib import Graph\n",
    "\n",
    "g = Graph()\n",
    "g.parse(\"demon_demo_plus_invented.ttl\", format=\"ttl\")"
   ]
  },
  {
   "cell_type": "markdown",
   "id": "6421ff6c-519b-4181-b52c-b7100787566f",
   "metadata": {},
   "source": [
    "# CQ1\n",
    "\n",
    "Which demons are classified as Guardian Demons?\n",
    "\n",
    "SPARQL version\n",
    "\n",
    "```sparql\n",
    "prefix crm: <http://www.cidoc-crm.org/cidoc-crm/> \n",
    "SELECT ?gdemons where {\n",
    "?gdemons crm:P2_has_type dlod:Guardian }\n",
    "```"
   ]
  },
  {
   "cell_type": "code",
   "execution_count": 5,
   "id": "0a1d9ef3-20cd-4f08-af52-b33e760c31fa",
   "metadata": {},
   "outputs": [
    {
     "name": "stdout",
     "output_type": "stream",
     "text": [
      "(rdflib.term.URIRef('http://example.org/demonlod/2584'),)\n",
      "(rdflib.term.URIRef('http://example.org/demonlod/2585'),)\n",
      "(rdflib.term.URIRef('http://example.org/demonlod/2586'),)\n",
      "(rdflib.term.URIRef('http://example.org/demonlod/771'),)\n",
      "(rdflib.term.URIRef('http://example.org/demonlod/772'),)\n",
      "(rdflib.term.URIRef('http://example.org/demonlod/773'),)\n"
     ]
    }
   ],
   "source": [
    "query = \"\"\"prefix crm: <http://www.cidoc-crm.org/cidoc-crm/> \n",
    "SELECT ?gdemons where {\n",
    "?gdemons crm:P2_has_type dlod:Guardian }\"\"\"\n",
    "\n",
    "results = g.query(query)\n",
    "for row in results:\n",
    "    print(row)"
   ]
  },
  {
   "cell_type": "markdown",
   "id": "c667f960-a8ab-4550-931c-c25706cfa8c6",
   "metadata": {},
   "source": [
    "# CQ2\n",
    "\n",
    "Which demons are classified as Wanderer Demons?\n",
    "\n",
    "SPARQL Version"
   ]
  },
  {
   "cell_type": "markdown",
   "id": "f7285c36-b38a-4b7a-865f-e3c84efc1c94",
   "metadata": {},
   "source": [
    "```sparql\n",
    "prefix ao: <http://rdf.muninn-project.org/ontologies/appearances#> \n",
    "prefix cf: <http://sites.google.com/site/pierreyvesvandenbussche/resources/ConceptTerms.owl#> \n",
    "prefix crm: <http://www.cidoc-crm.org/cidoc-crm/> \n",
    "prefix dc: <http://purl.org/dc/elements/1.1/> \n",
    "prefix dlod: <http://example.org/demonlod/> \n",
    "prefix icon: <https://w3id.org/icon/ontology/> \n",
    "prefix rdfs: <http://www.w3.org/2000/01/rdf-schema#> \n",
    "prefix skos: <http://www.w3.org/2004/02/skos/core#>\n",
    "SELECT ?wdemons where {\n",
    "?wdemons crm:P2_has_type dlod:Wanderer }\n",
    "LIMIT 10\n",
    "```"
   ]
  },
  {
   "cell_type": "code",
   "execution_count": null,
   "id": "57ab85dd-a9d5-4d80-bda7-efc72c89ae2a",
   "metadata": {},
   "outputs": [],
   "source": [
    "query = \"\"\"prefix ao: <http://rdf.muninn-project.org/ontologies/appearances#> \n",
    "prefix cf: <http://sites.google.com/site/pierreyvesvandenbussche/resources/ConceptTerms.owl#> \n",
    "prefix crm: <http://www.cidoc-crm.org/cidoc-crm/> \n",
    "prefix dc: <http://purl.org/dc/elements/1.1/> \n",
    "prefix dlod: <http://example.org/demonlod/> \n",
    "prefix icon: <https://w3id.org/icon/ontology/> \n",
    "prefix rdfs: <http://www.w3.org/2000/01/rdf-schema#> \n",
    "prefix skos: <http://www.w3.org/2004/02/skos/core#>\n",
    "SELECT ?wdemons where {\n",
    "?wdemons crm:P2_has_type dlod:Wanderer }\n",
    "LIMIT 100\"\"\"\n",
    "\n",
    "results = g.query(query)\n",
    "for row in results:\n",
    "    print(row)"
   ]
  },
  {
   "cell_type": "markdown",
   "id": "0a0056ea-f8de-49e8-ad5a-fe08889d82e9",
   "metadata": {},
   "source": [
    "## CQ3\n",
    "\n",
    "What are the roles of the Guardian Demons?\n",
    "\n",
    "Cannot be answered in DemonThings because there is no about this aspect. We added a specific demon with the role \"Herald\" to the dataset.\n",
    "**Result Wrong: there is no way to distinguish between the type of Animal, Hybrid and specific types of demons (herald) without a specific class.**\n",
    "SPARQL"
   ]
  },
  {
   "cell_type": "markdown",
   "id": "fc328149-b287-40fb-9a59-8e21c1717fae",
   "metadata": {},
   "source": [
    "```sparql\n",
    "prefix ao: <http://rdf.muninn-project.org/ontologies/appearances#> \n",
    "prefix cf: <http://sites.google.com/site/pierreyvesvandenbussche/resources/ConceptTerms.owl#> \n",
    "prefix crm: <http://www.cidoc-crm.org/cidoc-crm/> \n",
    "prefix dc: <http://purl.org/dc/elements/1.1/> \n",
    "prefix dlod: <http://example.org/demonlod/> \n",
    "prefix icon: <https://w3id.org/icon/ontology/> \n",
    "prefix rdfs: <http://www.w3.org/2000/01/rdf-schema#> \n",
    "prefix skos: <http://www.w3.org/2004/02/skos/core#>\n",
    "SELECT ?demonrole where {\n",
    "?demon crm:P2_has_type dlod:Guardian ;\n",
    "crm:P2_has_type ?demonrole\n",
    "FILTER (?demonrole != dlod:Guardian)}\n",
    "LIMIT 10\n",
    "```"
   ]
  },
  {
   "cell_type": "code",
   "execution_count": 50,
   "id": "0edfcee2-1367-494e-bc5b-c7c6fbc4a1fe",
   "metadata": {},
   "outputs": [
    {
     "name": "stdout",
     "output_type": "stream",
     "text": [
      "(rdflib.term.URIRef('http://example.org/demonlod/Animal'),)\n",
      "(rdflib.term.URIRef('http://example.org/demonlod/Herald'),)\n"
     ]
    }
   ],
   "source": [
    "query = \"\"\"prefix ao: <http://rdf.muninn-project.org/ontologies/appearances#> \n",
    "prefix cf: <http://sites.google.com/site/pierreyvesvandenbussche/resources/ConceptTerms.owl#> \n",
    "prefix crm: <http://www.cidoc-crm.org/cidoc-crm/> \n",
    "prefix dc: <http://purl.org/dc/elements/1.1/> \n",
    "prefix dlod: <http://example.org/demonlod/> \n",
    "prefix icon: <https://w3id.org/icon/ontology/> \n",
    "prefix rdfs: <http://www.w3.org/2000/01/rdf-schema#> \n",
    "prefix skos: <http://www.w3.org/2004/02/skos/core#>\n",
    "SELECT ?demonrole where {\n",
    "?demon crm:P2_has_type dlod:Guardian ;\n",
    "crm:P2_has_type ?demonrole\n",
    "FILTER (?demonrole != dlod:Guardian)}\n",
    "LIMIT 10\"\"\"\n",
    "\n",
    "results = g.query(query)\n",
    "for row in results:\n",
    "    print(row)"
   ]
  },
  {
   "cell_type": "markdown",
   "id": "d2b7af42-9a82-4204-9dd3-1d41b0895c3b",
   "metadata": {},
   "source": [
    "# CQ4\n",
    "\n",
    "Which demons are male?\n",
    "\n",
    "SPARQL"
   ]
  },
  {
   "cell_type": "markdown",
   "id": "80889645-1526-4ce0-b0cb-35b6c9ad265a",
   "metadata": {},
   "source": [
    "```sparql\n",
    "prefix ao: <http://rdf.muninn-project.org/ontologies/appearances#> \n",
    "prefix cf: <http://sites.google.com/site/pierreyvesvandenbussche/resources/ConceptTerms.owl#> \n",
    "prefix crm: <http://www.cidoc-crm.org/cidoc-crm/> \n",
    "prefix dc: <http://purl.org/dc/elements/1.1/> \n",
    "prefix dlod: <http://example.org/demonlod/> \n",
    "prefix icon: <https://w3id.org/icon/ontology/> \n",
    "prefix rdfs: <http://www.w3.org/2000/01/rdf-schema#> \n",
    "prefix skos: <http://www.w3.org/2004/02/skos/core#>\n",
    "SELECT ?mdemons where {\n",
    "?mdemons ao:hasGender dlod:Male }\n",
    "LIMIT 10\n",
    "```"
   ]
  },
  {
   "cell_type": "code",
   "execution_count": 9,
   "id": "889281b1-fc0d-4ab7-9838-161e7bf04a08",
   "metadata": {},
   "outputs": [
    {
     "name": "stdout",
     "output_type": "stream",
     "text": [
      "(rdflib.term.URIRef('http://example.org/demonlod/101'),)\n",
      "(rdflib.term.URIRef('http://example.org/demonlod/103'),)\n",
      "(rdflib.term.URIRef('http://example.org/demonlod/1047'),)\n",
      "(rdflib.term.URIRef('http://example.org/demonlod/1048'),)\n",
      "(rdflib.term.URIRef('http://example.org/demonlod/1049'),)\n",
      "(rdflib.term.URIRef('http://example.org/demonlod/105'),)\n",
      "(rdflib.term.URIRef('http://example.org/demonlod/1050'),)\n",
      "(rdflib.term.URIRef('http://example.org/demonlod/1051'),)\n",
      "(rdflib.term.URIRef('http://example.org/demonlod/1052'),)\n",
      "(rdflib.term.URIRef('http://example.org/demonlod/1053'),)\n"
     ]
    }
   ],
   "source": [
    "query = \"\"\"\n",
    "prefix ao: <http://rdf.muninn-project.org/ontologies/appearances#> \n",
    "prefix cf: <http://sites.google.com/site/pierreyvesvandenbussche/resources/ConceptTerms.owl#> \n",
    "prefix crm: <http://www.cidoc-crm.org/cidoc-crm/> \n",
    "prefix dc: <http://purl.org/dc/elements/1.1/> \n",
    "prefix dlod: <http://example.org/demonlod/> \n",
    "prefix icon: <https://w3id.org/icon/ontology/> \n",
    "prefix rdfs: <http://www.w3.org/2000/01/rdf-schema#> \n",
    "prefix skos: <http://www.w3.org/2004/02/skos/core#>\n",
    "SELECT ?mdemons where {\n",
    "?mdemons ao:hasGender dlod:Male }\n",
    "LIMIT 10\"\"\"\n",
    "\n",
    "results = g.query(query)\n",
    "for row in results:\n",
    "    print(row)\n"
   ]
  },
  {
   "cell_type": "markdown",
   "id": "17a35828-8844-4e78-87a9-3dff9f7c4e94",
   "metadata": {},
   "source": [
    "# CQ5\n",
    "\n",
    "Which demons are female?\n",
    "\n",
    "SPARQL"
   ]
  },
  {
   "cell_type": "markdown",
   "id": "aa3381c5-cfeb-484a-8ec5-af6ef6f16bf4",
   "metadata": {},
   "source": [
    "```sparql\n",
    "prefix ao: <http://rdf.muninn-project.org/ontologies/appearances#> \n",
    "prefix cf: <http://sites.google.com/site/pierreyvesvandenbussche/resources/ConceptTerms.owl#> \n",
    "prefix crm: <http://www.cidoc-crm.org/cidoc-crm/> \n",
    "prefix dc: <http://purl.org/dc/elements/1.1/> \n",
    "prefix dlod: <http://example.org/demonlod/> \n",
    "prefix icon: <https://w3id.org/icon/ontology/> \n",
    "prefix rdfs: <http://www.w3.org/2000/01/rdf-schema#> \n",
    "prefix skos: <http://www.w3.org/2004/02/skos/core#>\n",
    "SELECT ?fdemons where {\n",
    "?fdemons ao:hasGender dlod:Female }\n",
    "LIMIT 10\n",
    "```"
   ]
  },
  {
   "cell_type": "code",
   "execution_count": 10,
   "id": "fb50f9f2-21ab-4c9c-89cd-3ec9a7abeeff",
   "metadata": {},
   "outputs": [
    {
     "name": "stdout",
     "output_type": "stream",
     "text": [
      "(rdflib.term.URIRef('http://example.org/demonlod/177'),)\n",
      "(rdflib.term.URIRef('http://example.org/demonlod/186'),)\n",
      "(rdflib.term.URIRef('http://example.org/demonlod/213'),)\n",
      "(rdflib.term.URIRef('http://example.org/demonlod/216'),)\n",
      "(rdflib.term.URIRef('http://example.org/demonlod/1260'),)\n",
      "(rdflib.term.URIRef('http://example.org/demonlod/1261'),)\n",
      "(rdflib.term.URIRef('http://example.org/demonlod/1262'),)\n",
      "(rdflib.term.URIRef('http://example.org/demonlod/1263'),)\n",
      "(rdflib.term.URIRef('http://example.org/demonlod/1264'),)\n",
      "(rdflib.term.URIRef('http://example.org/demonlod/1265'),)\n"
     ]
    }
   ],
   "source": [
    "query = \"\"\"\n",
    "prefix ao: <http://rdf.muninn-project.org/ontologies/appearances#> \n",
    "prefix cf: <http://sites.google.com/site/pierreyvesvandenbussche/resources/ConceptTerms.owl#> \n",
    "prefix crm: <http://www.cidoc-crm.org/cidoc-crm/> \n",
    "prefix dc: <http://purl.org/dc/elements/1.1/> \n",
    "prefix dlod: <http://example.org/demonlod/> \n",
    "prefix icon: <https://w3id.org/icon/ontology/> \n",
    "prefix rdfs: <http://www.w3.org/2000/01/rdf-schema#> \n",
    "prefix skos: <http://www.w3.org/2004/02/skos/core#>\n",
    "SELECT ?fdemons where {\n",
    "?fdemons ao:hasGender dlod:Female }\n",
    "LIMIT 10\"\"\"\n",
    "\n",
    "results = g.query(query)\n",
    "for row in results:\n",
    "    print(row)"
   ]
  },
  {
   "cell_type": "markdown",
   "id": "82ef8baf-005b-4c18-bd7f-01ee2e759847",
   "metadata": {},
   "source": [
    "# CQ 6\n",
    "\n",
    "Which demons have an unspecified gender?\n",
    "\n",
    "SPARQL"
   ]
  },
  {
   "cell_type": "markdown",
   "id": "2fdf3872-30f2-4f1f-8d22-70e9d7115680",
   "metadata": {},
   "source": [
    "```sparql\n",
    "prefix ao: <http://rdf.muninn-project.org/ontologies/appearances#> \n",
    "prefix cf: <http://sites.google.com/site/pierreyvesvandenbussche/resources/ConceptTerms.owl#> \n",
    "prefix crm: <http://www.cidoc-crm.org/cidoc-crm/> \n",
    "prefix dc: <http://purl.org/dc/elements/1.1/> \n",
    "prefix dlod: <http://example.org/demonlod/> \n",
    "prefix icon: <https://w3id.org/icon/ontology/> \n",
    "prefix rdfs: <http://www.w3.org/2000/01/rdf-schema#> \n",
    "prefix skos: <http://www.w3.org/2004/02/skos/core#>\n",
    "SELECT ?ugdemons where {\n",
    "{?ugdemons a crm:E77_Persistent_Item} MINUS {?ugdemons ao:hasGender ?gender} }\n",
    "LIMIT 10\n",
    "```"
   ]
  },
  {
   "cell_type": "code",
   "execution_count": 13,
   "id": "aaaa0479-5d8b-49f4-94cb-eca8fe941bae",
   "metadata": {},
   "outputs": [
    {
     "name": "stdout",
     "output_type": "stream",
     "text": [
      "(rdflib.term.URIRef('http://example.org/demonlod/1345'),)\n",
      "(rdflib.term.URIRef('http://example.org/demonlod/1346'),)\n",
      "(rdflib.term.URIRef('http://example.org/demonlod/1348'),)\n",
      "(rdflib.term.URIRef('http://example.org/demonlod/1350'),)\n",
      "(rdflib.term.URIRef('http://example.org/demonlod/136'),)\n",
      "(rdflib.term.URIRef('http://example.org/demonlod/138'),)\n",
      "(rdflib.term.URIRef('http://example.org/demonlod/1438'),)\n",
      "(rdflib.term.URIRef('http://example.org/demonlod/1439'),)\n",
      "(rdflib.term.URIRef('http://example.org/demonlod/1440'),)\n",
      "(rdflib.term.URIRef('http://example.org/demonlod/1441'),)\n"
     ]
    }
   ],
   "source": [
    "query = \"\"\"\n",
    "prefix ao: <http://rdf.muninn-project.org/ontologies/appearances#> \n",
    "prefix cf: <http://sites.google.com/site/pierreyvesvandenbussche/resources/ConceptTerms.owl#> \n",
    "prefix crm: <http://www.cidoc-crm.org/cidoc-crm/> \n",
    "prefix dc: <http://purl.org/dc/elements/1.1/> \n",
    "prefix dlod: <http://example.org/demonlod/> \n",
    "prefix icon: <https://w3id.org/icon/ontology/> \n",
    "prefix rdfs: <http://www.w3.org/2000/01/rdf-schema#> \n",
    "prefix skos: <http://www.w3.org/2004/02/skos/core#>\n",
    "SELECT ?ugdemons where {\n",
    "{?ugdemons a crm:E77_Persistent_Item} MINUS {?ugdemons ao:hasGender ?gender} }\n",
    "LIMIT 10\"\"\"\n",
    "\n",
    "results = g.query(query)\n",
    "for row in results:\n",
    "    print(row)"
   ]
  },
  {
   "cell_type": "markdown",
   "id": "fffef08e-cf3c-4a37-8c33-39bf0489b8da",
   "metadata": {},
   "source": [
    "# CQ 7\n",
    "\n",
    "What are the funerary events connected to the demons?\n",
    "\n",
    "*We cannot answer in DemonThings as there is no such information. <br>\n",
    "We added a custom demon with the event \"Burial of a scientist\"*\n",
    "\n",
    "SPARQL"
   ]
  },
  {
   "cell_type": "markdown",
   "id": "127029d2-b8aa-4eb8-9466-8f5bc9e3ad94",
   "metadata": {},
   "source": [
    "```sparql\n",
    "prefix crm: <http://www.cidoc-crm.org/cidoc-crm/> \n",
    "prefix rdfs: <http://www.w3.org/2000/01/rdf-schema#> \n",
    "SELECT ?demonevent ?demoneventlabel where {\n",
    "?demon a crm:E77_Persistent_Item .\n",
    "?demonevent a crm:E5_Event ;\n",
    "crm:P12_occurred_in_the_presence_of ?demon ;\n",
    "rdfs:label ?demoneventlabel}\n",
    "LIMIT 10\n",
    "```"
   ]
  },
  {
   "cell_type": "code",
   "execution_count": 52,
   "id": "64f09978-0d3f-4ab8-890e-75b1fc6649e8",
   "metadata": {},
   "outputs": [
    {
     "name": "stdout",
     "output_type": "stream",
     "text": [
      "(rdflib.term.URIRef('http://example.org/demonlod/EVENT1'), rdflib.term.Literal('Burial of a scientist'))\n"
     ]
    }
   ],
   "source": [
    "query = \"\"\"\n",
    "prefix ao: <http://rdf.muninn-project.org/ontologies/appearances#> \n",
    "prefix cf: <http://sites.google.com/site/pierreyvesvandenbussche/resources/ConceptTerms.owl#> \n",
    "prefix crm: <http://www.cidoc-crm.org/cidoc-crm/> \n",
    "prefix dc: <http://purl.org/dc/elements/1.1/> \n",
    "prefix dlod: <http://example.org/demonlod/> \n",
    "prefix icon: <https://w3id.org/icon/ontology/> \n",
    "prefix rdfs: <http://www.w3.org/2000/01/rdf-schema#> \n",
    "prefix skos: <http://www.w3.org/2004/02/skos/core#>\n",
    "SELECT ?demonevent ?demoneventlabel where {\n",
    "?demon a crm:E77_Persistent_Item .\n",
    "?demonevent a crm:E5_Event ;\n",
    "crm:P12_occurred_in_the_presence_of ?demon ;\n",
    "rdfs:label ?demoneventlabel}\n",
    "LIMIT 10\n",
    "\"\"\"\n",
    "\n",
    "results = g.query(query)\n",
    "for row in results:\n",
    "    print(row)"
   ]
  },
  {
   "cell_type": "markdown",
   "id": "b2262fde-4fa1-4dfc-a033-d574955d4025",
   "metadata": {},
   "source": [
    "# CQ 8\n",
    "\n",
    "What are the names of the demons?\n",
    "\n",
    "SPARQL"
   ]
  },
  {
   "cell_type": "markdown",
   "id": "e703c504-a079-4505-838f-b41e30fb84a8",
   "metadata": {},
   "source": [
    "```sparql\n",
    "prefix ao: <http://rdf.muninn-project.org/ontologies/appearances#> \n",
    "prefix cf: <http://sites.google.com/site/pierreyvesvandenbussche/resources/ConceptTerms.owl#> \n",
    "prefix crm: <http://www.cidoc-crm.org/cidoc-crm/> \n",
    "prefix dc: <http://purl.org/dc/elements/1.1/> \n",
    "prefix dlod: <http://example.org/demonlod/> \n",
    "prefix icon: <https://w3id.org/icon/ontology/> \n",
    "prefix rdfs: <http://www.w3.org/2000/01/rdf-schema#> \n",
    "prefix skos: <http://www.w3.org/2004/02/skos/core#>\n",
    "SELECT ?demon ?demonName where {\n",
    "?demon crm:P1_is_identified_by ?appellation .\n",
    "?appellation a crm:E41_Appellation ;\n",
    "            cf:hasForPT ?demonName}\n",
    "LIMIT 10\n",
    "```"
   ]
  },
  {
   "cell_type": "code",
   "execution_count": 19,
   "id": "704f78b9-1c31-4661-ade1-144df130fe94",
   "metadata": {},
   "outputs": [
    {
     "name": "stdout",
     "output_type": "stream",
     "text": [
      "(rdflib.term.URIRef('http://example.org/demonlod/2819'), rdflib.term.Literal('Sisterly Companions'))\n",
      "(rdflib.term.URIRef('http://example.org/demonlod/2820'), rdflib.term.Literal('Sisterly Companions'))\n",
      "(rdflib.term.URIRef('http://example.org/demonlod/3046'), rdflib.term.Literal('One who guards them in his house'))\n",
      "(rdflib.term.URIRef('http://example.org/demonlod/3048'), rdflib.term.Literal('One who guards his mother in his house'))\n",
      "(rdflib.term.URIRef('http://example.org/demonlod/3059'), rdflib.term.Literal('Ram'))\n",
      "(rdflib.term.URIRef('http://example.org/demonlod/3060'), rdflib.term.Literal('Crocodile'))\n",
      "(rdflib.term.URIRef('http://example.org/demonlod/3061'), rdflib.term.Literal('Lion'))\n",
      "(rdflib.term.URIRef('http://example.org/demonlod/3062'), rdflib.term.Literal('Lion'))\n",
      "(rdflib.term.URIRef('http://example.org/demonlod/3063'), rdflib.term.Literal('Lion'))\n",
      "(rdflib.term.URIRef('http://example.org/demonlod/3064'), rdflib.term.Literal('Lion'))\n"
     ]
    }
   ],
   "source": [
    "query = \"\"\"\n",
    "prefix ao: <http://rdf.muninn-project.org/ontologies/appearances#> \n",
    "prefix cf: <http://sites.google.com/site/pierreyvesvandenbussche/resources/ConceptTerms.owl#> \n",
    "prefix crm: <http://www.cidoc-crm.org/cidoc-crm/> \n",
    "prefix dc: <http://purl.org/dc/elements/1.1/> \n",
    "prefix dlod: <http://example.org/demonlod/> \n",
    "prefix icon: <https://w3id.org/icon/ontology/> \n",
    "prefix rdfs: <http://www.w3.org/2000/01/rdf-schema#> \n",
    "prefix skos: <http://www.w3.org/2004/02/skos/core#>\n",
    "\n",
    "SELECT ?demon ?demonName where {\n",
    "?demon crm:P1_is_identified_by ?appellation .\n",
    "?appellation a crm:E41_Appellation ;\n",
    "            cf:hasForPT ?demonName}\n",
    "LIMIT 10\"\"\"\n",
    "\n",
    "results = g.query(query)\n",
    "for row in results:\n",
    "    print(row)"
   ]
  },
  {
   "cell_type": "markdown",
   "id": "4c719c8d-2495-4cda-87f4-84ba11a3b012",
   "metadata": {},
   "source": [
    "# CQ9\n",
    "\n",
    "What are the transliterations of the names of the demons?\n",
    "\n",
    "Error: cannot distinguish between translated and transliterated names. (see previous query)"
   ]
  },
  {
   "cell_type": "markdown",
   "id": "e8f691b4-9072-4ed5-a8b1-fac7492c2276",
   "metadata": {},
   "source": [
    "# CQ10\n",
    "\n",
    "What are the hieroglyphs related to the names of the demons?\n",
    "\n",
    "Cannot answer in DemonThings as there are no examples of that, we included a custom demon with the Hieroglyph \"Falcon\".\n"
   ]
  },
  {
   "cell_type": "code",
   "execution_count": 57,
   "id": "e6fb22d1-12fb-4b04-8466-8cf3c8d69931",
   "metadata": {},
   "outputs": [
    {
     "name": "stdout",
     "output_type": "stream",
     "text": [
      "(rdflib.term.URIRef('http://example.org/demonlod/HIEROFALCON'), rdflib.term.Literal('Falcon'))\n"
     ]
    }
   ],
   "source": [
    "query = \"\"\"\n",
    "prefix ao: <http://rdf.muninn-project.org/ontologies/appearances#> \n",
    "prefix cf: <http://sites.google.com/site/pierreyvesvandenbussche/resources/ConceptTerms.owl#> \n",
    "prefix crm: <http://www.cidoc-crm.org/cidoc-crm/> \n",
    "prefix dc: <http://purl.org/dc/elements/1.1/> \n",
    "prefix dlod: <http://example.org/demonlod/> \n",
    "prefix icon: <https://w3id.org/icon/ontology/> \n",
    "prefix rdfs: <http://www.w3.org/2000/01/rdf-schema#> \n",
    "prefix skos: <http://www.w3.org/2004/02/skos/core#>\n",
    "\n",
    "SELECT ?hiero ?hierolabel where {\n",
    "?appellation a crm:E41_Appellation ;\n",
    "            cf:hasForPT ?demonName .\n",
    "            ?demonName cf:composedBy ?hiero .\n",
    "            ?hiero rdfs:label ?hierolabel}\n",
    "LIMIT 10\"\"\"\n",
    "\n",
    "results = g.query(query)\n",
    "for row in results:\n",
    "    print(row)"
   ]
  },
  {
   "cell_type": "markdown",
   "id": "3a364aa7-300e-4269-aa91-929ec3a2a3b8",
   "metadata": {},
   "source": [
    "# CQ11 and CQ12\n",
    "\n",
    "What are the moral attributes (11) and physical characteristics (12) of the demons highlighted by their names?\n",
    "\n",
    "Error: cannot distinguish between moral and physical, see query below."
   ]
  },
  {
   "cell_type": "markdown",
   "id": "3d7bb518-164a-42b4-8f2c-998b63973c76",
   "metadata": {},
   "source": [
    "```sparql\n",
    "prefix ao: <http://rdf.muninn-project.org/ontologies/appearances#> \n",
    "prefix cf: <http://sites.google.com/site/pierreyvesvandenbussche/resources/ConceptTerms.owl#> \n",
    "prefix crm: <http://www.cidoc-crm.org/cidoc-crm/> \n",
    "prefix dc: <http://purl.org/dc/elements/1.1/> \n",
    "prefix dlod: <http://example.org/demonlod/> \n",
    "prefix icon: <https://w3id.org/icon/ontology/> \n",
    "prefix rdfs: <http://www.w3.org/2000/01/rdf-schema#> \n",
    "prefix skos: <http://www.w3.org/2004/02/skos/core#>\n",
    "\n",
    "SELECT ?demon ?demonName ?concept where {\n",
    "?demon crm:P1_is_identified_by ?appellation .\n",
    "?appellation a crm:E41_Appellation ;\n",
    "            cf:hasForPT ?demonName;\n",
    "            skos:related ?concept}\n",
    "LIMIT 10\n",
    "```"
   ]
  },
  {
   "cell_type": "code",
   "execution_count": 24,
   "id": "a1ef87ca-bfa3-43d5-b42b-39e2e3e2c8bd",
   "metadata": {},
   "outputs": [
    {
     "name": "stdout",
     "output_type": "stream",
     "text": [
      "(rdflib.term.URIRef('http://example.org/demonlod/1127'), rdflib.term.Literal('He of the sharp knife'), rdflib.term.URIRef('http://example.org/demonlod/theSharpKnife'))\n",
      "(rdflib.term.URIRef('http://example.org/demonlod/1128'), rdflib.term.Literal('He of the sharp knife'), rdflib.term.URIRef('http://example.org/demonlod/theSharpKnife'))\n",
      "(rdflib.term.URIRef('http://example.org/demonlod/1129'), rdflib.term.Literal('He of the sharp knife'), rdflib.term.URIRef('http://example.org/demonlod/theSharpKnife'))\n",
      "(rdflib.term.URIRef('http://example.org/demonlod/1133'), rdflib.term.Literal('He of the sharp knife'), rdflib.term.URIRef('http://example.org/demonlod/theSharpKnife'))\n",
      "(rdflib.term.URIRef('http://example.org/demonlod/1134'), rdflib.term.Literal('He of the sharp knife'), rdflib.term.URIRef('http://example.org/demonlod/theSharpKnife'))\n",
      "(rdflib.term.URIRef('http://example.org/demonlod/1135'), rdflib.term.Literal('He of the sharp knife'), rdflib.term.URIRef('http://example.org/demonlod/theSharpKnife'))\n",
      "(rdflib.term.URIRef('http://example.org/demonlod/1136'), rdflib.term.Literal('He of the sharp knife Sedes'), rdflib.term.URIRef('http://example.org/demonlod/theSharpKnifeSedes'))\n",
      "(rdflib.term.URIRef('http://example.org/demonlod/1260'), rdflib.term.Literal('She of the knife ?'), rdflib.term.URIRef('http://example.org/demonlod/theKnife'))\n",
      "(rdflib.term.URIRef('http://example.org/demonlod/1261'), rdflib.term.Literal('She of the knife ?'), rdflib.term.URIRef('http://example.org/demonlod/theKnife'))\n",
      "(rdflib.term.URIRef('http://example.org/demonlod/1262'), rdflib.term.Literal('She of the knife ?'), rdflib.term.URIRef('http://example.org/demonlod/theKnife'))\n"
     ]
    }
   ],
   "source": [
    "query = \"\"\"\n",
    "prefix ao: <http://rdf.muninn-project.org/ontologies/appearances#> \n",
    "prefix cf: <http://sites.google.com/site/pierreyvesvandenbussche/resources/ConceptTerms.owl#> \n",
    "prefix crm: <http://www.cidoc-crm.org/cidoc-crm/> \n",
    "prefix dc: <http://purl.org/dc/elements/1.1/> \n",
    "prefix dlod: <http://example.org/demonlod/> \n",
    "prefix icon: <https://w3id.org/icon/ontology/> \n",
    "prefix rdfs: <http://www.w3.org/2000/01/rdf-schema#> \n",
    "prefix skos: <http://www.w3.org/2004/02/skos/core#>\n",
    "\n",
    "SELECT ?demon ?demonName ?concept where {\n",
    "?demon crm:P1_is_identified_by ?appellation .\n",
    "?appellation a crm:E41_Appellation ;\n",
    "            cf:hasForPT ?demonName;\n",
    "            skos:related ?concept}\n",
    "LIMIT 10\"\"\"\n",
    "\n",
    "results = g.query(query)\n",
    "for row in results:\n",
    "    print(row)"
   ]
  },
  {
   "cell_type": "markdown",
   "id": "114fee8e-8d19-40ce-8a59-270158063ac4",
   "metadata": {},
   "source": [
    "# CQ 13\n",
    "\n",
    "Which demons have been represented in a multimodal form?\n",
    "\n",
    "We can get the result but there is no explicit visual representation in DemonThings.\n",
    "\n",
    "SPARQL"
   ]
  },
  {
   "cell_type": "markdown",
   "id": "8b898517-d18d-4baa-82de-dedf7c0c21bc",
   "metadata": {},
   "source": [
    "```sparql\n",
    "prefix ao: <http://rdf.muninn-project.org/ontologies/appearances#> \n",
    "prefix cf: <http://sites.google.com/site/pierreyvesvandenbussche/resources/ConceptTerms.owl#> \n",
    "prefix crm: <http://www.cidoc-crm.org/cidoc-crm/> \n",
    "prefix dc: <http://purl.org/dc/elements/1.1/> \n",
    "prefix dlod: <http://example.org/demonlod/> \n",
    "prefix icon: <https://w3id.org/icon/ontology/> \n",
    "prefix rdfs: <http://www.w3.org/2000/01/rdf-schema#> \n",
    "prefix skos: <http://www.w3.org/2004/02/skos/core#>\n",
    "\n",
    "SELECT distinct ?demon where {\n",
    "?infobj crm:P67_refers_to ?demon .\n",
    "?recogn icon:aboutWorkOfArt ?infobj .}\n",
    "LIMIT 10\n",
    "```"
   ]
  },
  {
   "cell_type": "code",
   "execution_count": 26,
   "id": "657951be-6875-4ccc-bdba-4ddaba1d0526",
   "metadata": {},
   "outputs": [
    {
     "name": "stdout",
     "output_type": "stream",
     "text": [
      "(rdflib.term.URIRef('http://example.org/demonlod/4132'),)\n",
      "(rdflib.term.URIRef('http://example.org/demonlod/4133'),)\n",
      "(rdflib.term.URIRef('http://example.org/demonlod/3078'),)\n",
      "(rdflib.term.URIRef('http://example.org/demonlod/3079'),)\n",
      "(rdflib.term.URIRef('http://example.org/demonlod/3080'),)\n",
      "(rdflib.term.URIRef('http://example.org/demonlod/3956'),)\n",
      "(rdflib.term.URIRef('http://example.org/demonlod/3054'),)\n",
      "(rdflib.term.URIRef('http://example.org/demonlod/3075'),)\n",
      "(rdflib.term.URIRef('http://example.org/demonlod/3076'),)\n",
      "(rdflib.term.URIRef('http://example.org/demonlod/3077'),)\n"
     ]
    }
   ],
   "source": [
    "query = \"\"\"\n",
    "prefix ao: <http://rdf.muninn-project.org/ontologies/appearances#> \n",
    "prefix cf: <http://sites.google.com/site/pierreyvesvandenbussche/resources/ConceptTerms.owl#> \n",
    "prefix crm: <http://www.cidoc-crm.org/cidoc-crm/> \n",
    "prefix dc: <http://purl.org/dc/elements/1.1/> \n",
    "prefix dlod: <http://example.org/demonlod/> \n",
    "prefix icon: <https://w3id.org/icon/ontology/> \n",
    "prefix rdfs: <http://www.w3.org/2000/01/rdf-schema#> \n",
    "prefix skos: <http://www.w3.org/2004/02/skos/core#>\n",
    "\n",
    "SELECT distinct ?demon where {\n",
    "?infobj crm:P67_refers_to ?demon .\n",
    "?recogn icon:aboutWorkOfArt ?infobj .}\n",
    "LIMIT 10\n",
    "\"\"\"\n",
    "results = g.query(query)\n",
    "for row in results:\n",
    "    print(row)\n"
   ]
  },
  {
   "cell_type": "markdown",
   "id": "46fc9795-9a93-455a-92ca-fe71b126f999",
   "metadata": {},
   "source": [
    "## CQ 14\n",
    "\n",
    "Which demons have been represented only in a textual form?\n",
    "\n",
    "SPARQL"
   ]
  },
  {
   "cell_type": "markdown",
   "id": "556fc7ef-7d92-424c-96cb-8034110f9b71",
   "metadata": {},
   "source": [
    "```sparql\n",
    "prefix ao: <http://rdf.muninn-project.org/ontologies/appearances#> \n",
    "prefix cf: <http://sites.google.com/site/pierreyvesvandenbussche/resources/ConceptTerms.owl#> \n",
    "prefix crm: <http://www.cidoc-crm.org/cidoc-crm/> \n",
    "prefix dc: <http://purl.org/dc/elements/1.1/> \n",
    "prefix dlod: <http://example.org/demonlod/> \n",
    "prefix icon: <https://w3id.org/icon/ontology/> \n",
    "prefix rdfs: <http://www.w3.org/2000/01/rdf-schema#> \n",
    "prefix skos: <http://www.w3.org/2004/02/skos/core#>\n",
    "\n",
    "SELECT distinct ?demon where {\n",
    "{?infobj crm:P67_refers_to ?demon .} MINUS\n",
    "{?recogn icon:aboutWorkOfArt ?infobj .\n",
    "?infobj crm:P67_refers_to ?demon }}\n",
    "LIMIT 10\n",
    "```"
   ]
  },
  {
   "cell_type": "code",
   "execution_count": 28,
   "id": "1606cff8-6c4d-4399-b38b-1a2935a0e2d0",
   "metadata": {},
   "outputs": [
    {
     "name": "stdout",
     "output_type": "stream",
     "text": [
      "(rdflib.term.URIRef('http://example.org/demonlod/2240'),)\n",
      "(rdflib.term.URIRef('http://example.org/demonlod/1753'),)\n",
      "(rdflib.term.URIRef('http://example.org/demonlod/1859'),)\n",
      "(rdflib.term.URIRef('http://example.org/demonlod/1934'),)\n",
      "(rdflib.term.URIRef('http://example.org/demonlod/2052'),)\n",
      "(rdflib.term.URIRef('http://example.org/demonlod/2051'),)\n",
      "(rdflib.term.URIRef('http://example.org/demonlod/2053'),)\n",
      "(rdflib.term.URIRef('http://example.org/demonlod/2208'),)\n",
      "(rdflib.term.URIRef('http://example.org/demonlod/2278'),)\n",
      "(rdflib.term.URIRef('http://example.org/demonlod/2468'),)\n"
     ]
    }
   ],
   "source": [
    "query = \"\"\"\n",
    "prefix ao: <http://rdf.muninn-project.org/ontologies/appearances#> \n",
    "prefix cf: <http://sites.google.com/site/pierreyvesvandenbussche/resources/ConceptTerms.owl#> \n",
    "prefix crm: <http://www.cidoc-crm.org/cidoc-crm/> \n",
    "prefix dc: <http://purl.org/dc/elements/1.1/> \n",
    "prefix dlod: <http://example.org/demonlod/> \n",
    "prefix icon: <https://w3id.org/icon/ontology/> \n",
    "prefix rdfs: <http://www.w3.org/2000/01/rdf-schema#> \n",
    "prefix skos: <http://www.w3.org/2004/02/skos/core#>\n",
    "\n",
    "SELECT distinct ?demon where {\n",
    "{?infobj crm:P67_refers_to ?demon .} MINUS\n",
    "{?recogn icon:aboutWorkOfArt ?infobj .\n",
    "?infobj crm:P67_refers_to ?demon }}\n",
    "LIMIT 10\n",
    "\"\"\"\n",
    "results = g.query(query)\n",
    "for row in results:\n",
    "    print(row)"
   ]
  },
  {
   "cell_type": "markdown",
   "id": "15063e43-b874-4534-8aa9-ecac6c6697f5",
   "metadata": {},
   "source": [
    "# CQ 15\n",
    "\n",
    "Which agencies of the demons are described in their textual representations?\n",
    "\n",
    "We cannot distinguish between agencies and comments as the descriptions contains all sorts of things in DemonThings\n",
    "\n",
    "SPARQL"
   ]
  },
  {
   "cell_type": "markdown",
   "id": "1f383598-6d79-416b-95f4-e4677a2764c3",
   "metadata": {},
   "source": [
    "```sparql\n",
    "prefix ao: <http://rdf.muninn-project.org/ontologies/appearances#> \n",
    "prefix cf: <http://sites.google.com/site/pierreyvesvandenbussche/resources/ConceptTerms.owl#> \n",
    "prefix crm: <http://www.cidoc-crm.org/cidoc-crm/> \n",
    "prefix dc: <http://purl.org/dc/elements/1.1/> \n",
    "prefix dlod: <http://example.org/demonlod/> \n",
    "prefix icon: <https://w3id.org/icon/ontology/> \n",
    "prefix rdfs: <http://www.w3.org/2000/01/rdf-schema#> \n",
    "prefix skos: <http://www.w3.org/2004/02/skos/core#>\n",
    "\n",
    "SELECT distinct ?agencyOrNot where {\n",
    "?infobj crm:P67_refers_to ?demon .\n",
    "?infobj dc:description ?agencyOrNot}\n",
    "LIMIT 10\n",
    "```"
   ]
  },
  {
   "cell_type": "code",
   "execution_count": 34,
   "id": "fa5f4aff-7cea-4d77-a9fe-de5cb70fca40",
   "metadata": {},
   "outputs": [
    {
     "name": "stdout",
     "output_type": "stream",
     "text": [
      "(rdflib.term.Literal('--only part of text written--'),)\n",
      "(rdflib.term.Literal(\"It so happened that Re disputed with the jmy-whm.f serpent concerning the division of Heliopolis, and his mouth was injured, and that is how the reduction in the monthly festival came about. Then said jmj-whm.f: 'I will take my harpoon and I will inherit this city', and that is how the Harpoon came into being. Then said Re: 'I will erect my flagstaff against him, I will oust him, and that is how the snwt-festival came about.\"),)\n",
      "(rdflib.term.Literal(\"'I will live on seven portions which are being brought; their seven loaves are with Horus and with Seth'.\"),)\n",
      "(rdflib.term.Literal(\"'What will you live on', say the gods, spirits and dead, 'in this place where you have been brought?'\"),)\n",
      "(rdflib.term.Literal(\"'Where has it been granted to you to eat?' say the gods to me.\"),)\n",
      "(rdflib.term.Literal(\"'dignitaries' aforementioned.\"),)\n",
      "(rdflib.term.Literal(\"'glance at', Wb V, 384, 10. 11.\"),)\n",
      "(rdflib.term.Literal('--'),)\n",
      "(rdflib.term.Literal('--only part of text--'),)\n",
      "(rdflib.term.Literal('1. \"So St oC; BIBO has merely \\'Geb\\'.'),)\n"
     ]
    }
   ],
   "source": [
    "query = \"\"\"\n",
    "prefix ao: <http://rdf.muninn-project.org/ontologies/appearances#> \n",
    "prefix cf: <http://sites.google.com/site/pierreyvesvandenbussche/resources/ConceptTerms.owl#> \n",
    "prefix crm: <http://www.cidoc-crm.org/cidoc-crm/> \n",
    "prefix dc: <http://purl.org/dc/elements/1.1/> \n",
    "prefix dlod: <http://example.org/demonlod/> \n",
    "prefix icon: <https://w3id.org/icon/ontology/> \n",
    "prefix rdfs: <http://www.w3.org/2000/01/rdf-schema#> \n",
    "prefix skos: <http://www.w3.org/2004/02/skos/core#>\n",
    "\n",
    "SELECT distinct ?agencyOrNot where {\n",
    "?infobj crm:P67_refers_to ?demon .\n",
    "?infobj dc:description ?agencyOrNot}\n",
    "LIMIT 10\n",
    "\"\"\"\n",
    "results = g.query(query)\n",
    "for row in results:\n",
    "    print(row)\n"
   ]
  },
  {
   "cell_type": "markdown",
   "id": "a7aa6d66-0917-4814-9fa1-7aa047de3ca9",
   "metadata": {},
   "source": [
    "# CQ 16.1-16.9\n",
    "\n",
    "What are the body characteristics of the demons recognized in their pictorial representation?\n",
    "\n",
    "What is/are the <br>\n",
    "poses/gestures/headgear/costume/head characteristics/ <br>\n",
    "upper body characteristics/lower body characteristics/held objects  <br>\n",
    "of the demons recognized in their pictorial representation?\n",
    "\n",
    "ERROR: **You can only distinguish between poses/gestures and the rest, not <br>\n",
    "specific iconographic information from the domain**\n",
    "\n",
    "SPARQL poses/gestures"
   ]
  },
  {
   "cell_type": "markdown",
   "id": "1a5331c3-b5c5-4c01-a808-0e2728995cff",
   "metadata": {},
   "source": [
    "```sparql\n",
    "prefix crm: <http://www.cidoc-crm.org/cidoc-crm/> \n",
    "prefix icon: <https://w3id.org/icon/ontology/> \n",
    "\n",
    "SELECT distinct ?demon ?poseOrGesture where {\n",
    "?poseOrGesture a icon:Action .\n",
    "?infobj crm:P67_refers_to ?demon .\n",
    "?rec icon:aboutWorkOfArt ?infobj ;\n",
    "icon:recognizedComposition ?comp .\n",
    "?comp icon:hasPart ?am .\n",
    "?am icon:hasFactualMeaning ?poseOrGesture .}\n",
    "LIMIT 10\n",
    "```"
   ]
  },
  {
   "cell_type": "code",
   "execution_count": 42,
   "id": "a6d8572b-9a42-4226-a360-5b7e733faf43",
   "metadata": {},
   "outputs": [
    {
     "name": "stdout",
     "output_type": "stream",
     "text": [
      "(rdflib.term.URIRef('http://example.org/demonlod/2956'), rdflib.term.URIRef('http://example.org/demonlod/armCrossedAtWaist'))\n",
      "(rdflib.term.URIRef('http://example.org/demonlod/117'), rdflib.term.URIRef('http://example.org/demonlod/facingForwards'))\n",
      "(rdflib.term.URIRef('http://example.org/demonlod/131'), rdflib.term.URIRef('http://example.org/demonlod/facingRight'))\n",
      "(rdflib.term.URIRef('http://example.org/demonlod/3261'), rdflib.term.URIRef('http://example.org/demonlod/flexedStanceHandsOnNavel'))\n",
      "(rdflib.term.URIRef('http://example.org/demonlod/4222'), rdflib.term.URIRef('http://example.org/demonlod/handInFrontOfFace'))\n",
      "(rdflib.term.URIRef('http://example.org/demonlod/3264'), rdflib.term.URIRef('http://example.org/demonlod/killingEnemySmiting'))\n",
      "(rdflib.term.URIRef('http://example.org/demonlod/2950'), rdflib.term.URIRef('http://example.org/demonlod/onHandsAndKnees'))\n",
      "(rdflib.term.URIRef('http://example.org/demonlod/4222'), rdflib.term.URIRef('http://example.org/demonlod/reverseProtectionForwardHand'))\n",
      "(rdflib.term.URIRef('http://example.org/demonlod/3313'), rdflib.term.URIRef('http://example.org/demonlod/smiting'))\n",
      "(rdflib.term.URIRef('http://example.org/demonlod/3018'), rdflib.term.URIRef('http://example.org/demonlod/contactWithDeity'))\n"
     ]
    }
   ],
   "source": [
    "query = \"\"\"\n",
    "prefix ao: <http://rdf.muninn-project.org/ontologies/appearances#> \n",
    "prefix cf: <http://sites.google.com/site/pierreyvesvandenbussche/resources/ConceptTerms.owl#> \n",
    "prefix crm: <http://www.cidoc-crm.org/cidoc-crm/> \n",
    "prefix dc: <http://purl.org/dc/elements/1.1/> \n",
    "prefix dlod: <http://example.org/demonlod/> \n",
    "prefix icon: <https://w3id.org/icon/ontology/> \n",
    "prefix rdfs: <http://www.w3.org/2000/01/rdf-schema#> \n",
    "prefix skos: <http://www.w3.org/2004/02/skos/core#>\n",
    "\n",
    "SELECT distinct ?demon ?poseOrGesture where {\n",
    "?poseOrGesture a icon:Action .\n",
    "?infobj crm:P67_refers_to ?demon .\n",
    "?rec icon:aboutWorkOfArt ?infobj ;\n",
    "icon:recognizedComposition ?comp .\n",
    "?comp icon:hasPart ?am .\n",
    "?am icon:hasFactualMeaning ?poseOrGesture .\n",
    "?rec2 icon:refersToArtisticMotif ?comp ;\n",
    "icon:recognizedImage ?img .\n",
    "?img icon:hasCharacter ?demon}\n",
    "LIMIT 10\n",
    "\n",
    "\"\"\"\n",
    "results = g.query(query)\n",
    "for row in results:\n",
    "    print(row)\n"
   ]
  },
  {
   "cell_type": "markdown",
   "id": "3aea0974-9ad1-40c1-8915-b3491c452ec5",
   "metadata": {},
   "source": [
    "SPARQL the rest (non pose/gestures)"
   ]
  },
  {
   "cell_type": "markdown",
   "id": "2d81cdf9-0a14-425d-896d-96cbfefc1b32",
   "metadata": {},
   "source": [
    "```sparql\n",
    "prefix ao: <http://rdf.muninn-project.org/ontologies/appearances#> \n",
    "prefix cf: <http://sites.google.com/site/pierreyvesvandenbussche/resources/ConceptTerms.owl#> \n",
    "prefix crm: <http://www.cidoc-crm.org/cidoc-crm/> \n",
    "prefix dc: <http://purl.org/dc/elements/1.1/> \n",
    "prefix dlod: <http://example.org/demonlod/> \n",
    "prefix icon: <https://w3id.org/icon/ontology/> \n",
    "prefix rdfs: <http://www.w3.org/2000/01/rdf-schema#> \n",
    "prefix skos: <http://www.w3.org/2004/02/skos/core#>\n",
    "\n",
    "SELECT distinct ?demon ?other where {\n",
    "?other a icon:NaturalElement .\n",
    "?infobj crm:P67_refers_to ?demon .\n",
    "?rec icon:aboutWorkOfArt ?infobj ;\n",
    "icon:recognizedComposition ?comp .\n",
    "?comp icon:hasPart ?am .\n",
    "?am icon:hasFactualMeaning ?other .}\n",
    "LIMIT 10\n",
    "```"
   ]
  },
  {
   "cell_type": "code",
   "execution_count": 43,
   "id": "4ac7bc3b-61e7-4870-a6d8-726a67275a45",
   "metadata": {},
   "outputs": [
    {
     "name": "stdout",
     "output_type": "stream",
     "text": [
      "(rdflib.term.URIRef('http://example.org/demonlod/3041'), rdflib.term.URIRef('http://example.org/demonlod/clothTie'))\n",
      "(rdflib.term.URIRef('http://example.org/demonlod/2957'), rdflib.term.URIRef('http://example.org/demonlod/djedColumn'))\n",
      "(rdflib.term.URIRef('http://example.org/demonlod/130'), rdflib.term.URIRef('http://example.org/demonlod/falcon'))\n",
      "(rdflib.term.URIRef('http://example.org/demonlod/4212'), rdflib.term.URIRef('http://example.org/demonlod/flameSign'))\n",
      "(rdflib.term.URIRef('http://example.org/demonlod/128'), rdflib.term.URIRef('http://example.org/demonlod/lion'))\n",
      "(rdflib.term.URIRef('http://example.org/demonlod/3312'), rdflib.term.URIRef('http://example.org/demonlod/loincloth'))\n",
      "(rdflib.term.URIRef('http://example.org/demonlod/3173'), rdflib.term.URIRef('http://example.org/demonlod/lotuslilly'))\n",
      "(rdflib.term.URIRef('http://example.org/demonlod/3913'), rdflib.term.URIRef('http://example.org/demonlod/musicTambour'))\n",
      "(rdflib.term.URIRef('http://example.org/demonlod/2957'), rdflib.term.URIRef('http://example.org/demonlod/nemesHeaddress'))\n",
      "(rdflib.term.URIRef('http://example.org/demonlod/2941'), rdflib.term.URIRef('http://example.org/demonlod/phallusInMouth'))\n"
     ]
    }
   ],
   "source": [
    "query = \"\"\"\n",
    "prefix ao: <http://rdf.muninn-project.org/ontologies/appearances#> \n",
    "prefix cf: <http://sites.google.com/site/pierreyvesvandenbussche/resources/ConceptTerms.owl#> \n",
    "prefix crm: <http://www.cidoc-crm.org/cidoc-crm/> \n",
    "prefix dc: <http://purl.org/dc/elements/1.1/> \n",
    "prefix dlod: <http://example.org/demonlod/> \n",
    "prefix icon: <https://w3id.org/icon/ontology/> \n",
    "prefix rdfs: <http://www.w3.org/2000/01/rdf-schema#> \n",
    "prefix skos: <http://www.w3.org/2004/02/skos/core#>\n",
    "\n",
    "SELECT distinct ?demon ?other where {\n",
    "?other a icon:NaturalElement .\n",
    "?infobj crm:P67_refers_to ?demon .\n",
    "?rec icon:aboutWorkOfArt ?infobj ;\n",
    "icon:recognizedComposition ?comp .\n",
    "?comp icon:hasPart ?am .\n",
    "?am icon:hasFactualMeaning ?other .\n",
    "?rec2 icon:refersToArtisticMotif ?comp ;\n",
    "icon:recognizedImage ?img .\n",
    "?img icon:hasCharacter ?demon}\n",
    "LIMIT 10\"\"\"\n",
    "\n",
    "results = g.query(query)\n",
    "for row in results:\n",
    "    print(row)\n"
   ]
  },
  {
   "cell_type": "markdown",
   "id": "876a662e-fb96-48a2-b502-6b3df8d44c06",
   "metadata": {},
   "source": [
    "# CQ17 \n",
    "\n",
    "What are the symbolic meanings of the objects held by the demons?\n",
    "\n",
    "Cannot answer this in DemonThings as this information is not present there. We create one demon which holds a knife symbolizing malevolence.\n",
    "\n",
    "SPARQL"
   ]
  },
  {
   "cell_type": "markdown",
   "id": "f1abd06e-bd71-4d20-b102-46f9617b8dba",
   "metadata": {},
   "source": [
    "```sparql\n",
    "prefix ao: <http://rdf.muninn-project.org/ontologies/appearances#> \n",
    "prefix cf: <http://sites.google.com/site/pierreyvesvandenbussche/resources/ConceptTerms.owl#> \n",
    "prefix crm: <http://www.cidoc-crm.org/cidoc-crm/> \n",
    "prefix dc: <http://purl.org/dc/elements/1.1/> \n",
    "prefix dlod: <http://example.org/demonlod/> \n",
    "prefix icon: <https://w3id.org/icon/ontology/> \n",
    "prefix rdfs: <http://www.w3.org/2000/01/rdf-schema#> \n",
    "prefix skos: <http://www.w3.org/2004/02/skos/core#>\n",
    "\n",
    "SELECT distinct ?demon ?symbol ?symbolism where {\n",
    "?infobj crm:P63_refers_to ?demon .\n",
    "?rec icon:aboutWorkOfArt ?infobj ;\n",
    "icon:recognizedImage ?img .\n",
    "?img icon:hasSymbol ?sim .\n",
    "?sim sim:hasSimulacrum ?symbol ;\n",
    "sim:hasRealityCounterpart ?symbolism\n",
    "}\n",
    "LIMIT 10\n",
    "```"
   ]
  },
  {
   "cell_type": "code",
   "execution_count": 67,
   "id": "7e6b6e75-a3bf-46db-82e6-793d6d25d068",
   "metadata": {},
   "outputs": [
    {
     "name": "stdout",
     "output_type": "stream",
     "text": [
      "(rdflib.term.URIRef('http://example.org/demonlod/demonINV3'), rdflib.term.URIRef('http://example.org/demonlod/knife'), rdflib.term.URIRef('http://example.org/demonlod/malevolence'))\n"
     ]
    }
   ],
   "source": [
    "query = \"\"\"\n",
    "prefix ao: <http://rdf.muninn-project.org/ontologies/appearances#> \n",
    "prefix cf: <http://sites.google.com/site/pierreyvesvandenbussche/resources/ConceptTerms.owl#> \n",
    "prefix crm: <http://www.cidoc-crm.org/cidoc-crm/> \n",
    "prefix dc: <http://purl.org/dc/elements/1.1/> \n",
    "prefix dlod: <http://example.org/demonlod/> \n",
    "prefix icon: <https://w3id.org/icon/ontology/> \n",
    "prefix rdfs: <http://www.w3.org/2000/01/rdf-schema#> \n",
    "prefix skos: <http://www.w3.org/2004/02/skos/core#>\n",
    "\n",
    "SELECT distinct ?demon ?symbol ?symbolism where {\n",
    "?infobj crm:P63_refers_to ?demon .\n",
    "?rec icon:aboutWorkOfArt ?infobj ;\n",
    "icon:recognizedImage ?img .\n",
    "?img icon:hasSymbol ?sim .\n",
    "?sim sim:hasSimulacrum ?symbol ;\n",
    "sim:hasRealityCounterpart ?symbolism\n",
    "}\n",
    "LIMIT 10\"\"\"\n",
    "\n",
    "results = g.query(query)\n",
    "for row in results:\n",
    "    print(row)"
   ]
  },
  {
   "cell_type": "markdown",
   "id": "44b13654-1ab6-48e6-a102-58ae96396de6",
   "metadata": {},
   "source": [
    "# CQ18-20\n",
    "\n",
    "Which demons have animal (18) human (19) hybird (20)  features?\n",
    "\n",
    "Cannot answer as this information in DemonThings, we added 3 demons with the three different features (animal, human, hybrid) only expressed by type, which shows the limitations of current ontologies in addressing this.\n",
    "\n",
    "SPARQL18"
   ]
  },
  {
   "cell_type": "markdown",
   "id": "0242b9bc-5295-4c12-b717-b513479d163f",
   "metadata": {},
   "source": [
    "```sparql\n",
    "prefix ao: <http://rdf.muninn-project.org/ontologies/appearances#> \n",
    "prefix cf: <http://sites.google.com/site/pierreyvesvandenbussche/resources/ConceptTerms.owl#> \n",
    "prefix crm: <http://www.cidoc-crm.org/cidoc-crm/> \n",
    "prefix dc: <http://purl.org/dc/elements/1.1/> \n",
    "prefix dlod: <http://example.org/demonlod/> \n",
    "prefix icon: <https://w3id.org/icon/ontology/> \n",
    "prefix rdfs: <http://www.w3.org/2000/01/rdf-schema#> \n",
    "prefix skos: <http://www.w3.org/2004/02/skos/core#>\n",
    "\n",
    "SELECT distinct ?demon where {\n",
    "?demon crm:P2_has_type dlod:Animal}\n",
    "LIMIT 10\n",
    "```"
   ]
  },
  {
   "cell_type": "code",
   "execution_count": 68,
   "id": "93236a46-0241-4e76-a471-20302ed4c03f",
   "metadata": {},
   "outputs": [
    {
     "name": "stdout",
     "output_type": "stream",
     "text": [
      "(rdflib.term.URIRef('http://example.org/demonlod/demonINV1'),)\n"
     ]
    }
   ],
   "source": [
    "query = \"\"\"\n",
    "prefix ao: <http://rdf.muninn-project.org/ontologies/appearances#> \n",
    "prefix cf: <http://sites.google.com/site/pierreyvesvandenbussche/resources/ConceptTerms.owl#> \n",
    "prefix crm: <http://www.cidoc-crm.org/cidoc-crm/> \n",
    "prefix dc: <http://purl.org/dc/elements/1.1/> \n",
    "prefix dlod: <http://example.org/demonlod/> \n",
    "prefix icon: <https://w3id.org/icon/ontology/> \n",
    "prefix rdfs: <http://www.w3.org/2000/01/rdf-schema#> \n",
    "prefix skos: <http://www.w3.org/2004/02/skos/core#>\n",
    "\n",
    "SELECT distinct ?demon where {\n",
    "?demon crm:P2_has_type dlod:Animal}\n",
    "LIMIT 10\"\"\"\n",
    "\n",
    "results = g.query(query)\n",
    "for row in results:\n",
    "    print(row)"
   ]
  },
  {
   "cell_type": "markdown",
   "id": "b34fea97-abe6-4ad2-9fb2-26e23c3d455d",
   "metadata": {},
   "source": [
    "SPARQL19"
   ]
  },
  {
   "cell_type": "markdown",
   "id": "d2f4b641-6339-4a4b-833b-b4aee820b37e",
   "metadata": {},
   "source": [
    "```sparql\n",
    "prefix ao: <http://rdf.muninn-project.org/ontologies/appearances#> \n",
    "prefix cf: <http://sites.google.com/site/pierreyvesvandenbussche/resources/ConceptTerms.owl#> \n",
    "prefix crm: <http://www.cidoc-crm.org/cidoc-crm/> \n",
    "prefix dc: <http://purl.org/dc/elements/1.1/> \n",
    "prefix dlod: <http://example.org/demonlod/> \n",
    "prefix icon: <https://w3id.org/icon/ontology/> \n",
    "prefix rdfs: <http://www.w3.org/2000/01/rdf-schema#> \n",
    "prefix skos: <http://www.w3.org/2004/02/skos/core#>\n",
    "\n",
    "SELECT distinct ?demon where {\n",
    "?demon crm:P2_has_type dlod:Human}\n",
    "LIMIT 10\n",
    "```"
   ]
  },
  {
   "cell_type": "code",
   "execution_count": 70,
   "id": "9c12b330-112b-4831-9ac4-16d853e1e3d1",
   "metadata": {},
   "outputs": [
    {
     "name": "stdout",
     "output_type": "stream",
     "text": [
      "(rdflib.term.URIRef('http://example.org/demonlod/demonINV3'),)\n"
     ]
    }
   ],
   "source": [
    "query = \"\"\"\n",
    "prefix ao: <http://rdf.muninn-project.org/ontologies/appearances#> \n",
    "prefix cf: <http://sites.google.com/site/pierreyvesvandenbussche/resources/ConceptTerms.owl#> \n",
    "prefix crm: <http://www.cidoc-crm.org/cidoc-crm/> \n",
    "prefix dc: <http://purl.org/dc/elements/1.1/> \n",
    "prefix dlod: <http://example.org/demonlod/> \n",
    "prefix icon: <https://w3id.org/icon/ontology/> \n",
    "prefix rdfs: <http://www.w3.org/2000/01/rdf-schema#> \n",
    "prefix skos: <http://www.w3.org/2004/02/skos/core#>\n",
    "\n",
    "SELECT distinct ?demon where {\n",
    "?demon crm:P2_has_type dlod:Human}\n",
    "LIMIT 10\"\"\"\n",
    "\n",
    "results = g.query(query)\n",
    "for row in results:\n",
    "    print(row)"
   ]
  },
  {
   "cell_type": "markdown",
   "id": "21e46311-5fe6-4025-aa06-5233a33fee09",
   "metadata": {},
   "source": [
    "SPARQL20"
   ]
  },
  {
   "cell_type": "markdown",
   "id": "eae23165-10f5-43a9-a481-e76210386175",
   "metadata": {},
   "source": [
    "```sparql\n",
    "prefix ao: <http://rdf.muninn-project.org/ontologies/appearances#> \n",
    "prefix cf: <http://sites.google.com/site/pierreyvesvandenbussche/resources/ConceptTerms.owl#> \n",
    "prefix crm: <http://www.cidoc-crm.org/cidoc-crm/> \n",
    "prefix dc: <http://purl.org/dc/elements/1.1/> \n",
    "prefix dlod: <http://example.org/demonlod/> \n",
    "prefix icon: <https://w3id.org/icon/ontology/> \n",
    "prefix rdfs: <http://www.w3.org/2000/01/rdf-schema#> \n",
    "prefix skos: <http://www.w3.org/2004/02/skos/core#>\n",
    "\n",
    "SELECT distinct ?demon where {\n",
    "?demon crm:P2_has_type dlod:Hybrid}\n",
    "LIMIT 10\n",
    "```"
   ]
  },
  {
   "cell_type": "code",
   "execution_count": 71,
   "id": "450bce0a-6cc8-4f91-81ab-371df327fdda",
   "metadata": {},
   "outputs": [
    {
     "name": "stdout",
     "output_type": "stream",
     "text": [
      "(rdflib.term.URIRef('http://example.org/demonlod/demonINV2'),)\n"
     ]
    }
   ],
   "source": [
    "query = \"\"\"\n",
    "prefix ao: <http://rdf.muninn-project.org/ontologies/appearances#> \n",
    "prefix cf: <http://sites.google.com/site/pierreyvesvandenbussche/resources/ConceptTerms.owl#> \n",
    "prefix crm: <http://www.cidoc-crm.org/cidoc-crm/> \n",
    "prefix dc: <http://purl.org/dc/elements/1.1/> \n",
    "prefix dlod: <http://example.org/demonlod/> \n",
    "prefix icon: <https://w3id.org/icon/ontology/> \n",
    "prefix rdfs: <http://www.w3.org/2000/01/rdf-schema#> \n",
    "prefix skos: <http://www.w3.org/2004/02/skos/core#>\n",
    "\n",
    "SELECT distinct ?demon where {\n",
    "?demon crm:P2_has_type dlod:Hybrid}\n",
    "LIMIT 10\"\"\"\n",
    "\n",
    "results = g.query(query)\n",
    "for row in results:\n",
    "    print(row)"
   ]
  },
  {
   "cell_type": "markdown",
   "id": "19697b41-f342-478b-9788-440742b1891c",
   "metadata": {},
   "source": [
    "# CQ21.1\n",
    "\n",
    "In what media are demons represented?\n",
    "\n",
    "SPARQL"
   ]
  },
  {
   "cell_type": "markdown",
   "id": "7a0ddd3e-dae2-46ab-aecd-901f8cc069fa",
   "metadata": {},
   "source": [
    "```sparql\n",
    "prefix ao: <http://rdf.muninn-project.org/ontologies/appearances#> \n",
    "prefix cf: <http://sites.google.com/site/pierreyvesvandenbussche/resources/ConceptTerms.owl#> \n",
    "prefix crm: <http://www.cidoc-crm.org/cidoc-crm/> \n",
    "prefix dc: <http://purl.org/dc/elements/1.1/> \n",
    "prefix dlod: <http://example.org/demonlod/> \n",
    "prefix icon: <https://w3id.org/icon/ontology/> \n",
    "prefix rdfs: <http://www.w3.org/2000/01/rdf-schema#> \n",
    "prefix skos: <http://www.w3.org/2004/02/skos/core#>\n",
    "\n",
    "SELECT distinct ?typeofmedia where {\n",
    "?media crm:P67_refers_to ?demon;\n",
    "crm:P2_has_type ?typeofmedia}\n",
    "LIMIT 10\n",
    "```"
   ]
  },
  {
   "cell_type": "code",
   "execution_count": 45,
   "id": "a2fe37ad-d11d-4eb7-ad34-f0cf2b1dc6d1",
   "metadata": {},
   "outputs": [
    {
     "name": "stdout",
     "output_type": "stream",
     "text": [
      "(rdflib.term.URIRef('http://example.org/demonlod/coffin'),)\n",
      "(rdflib.term.URIRef('http://example.org/demonlod/BookOfTheDeadChapter'),)\n",
      "(rdflib.term.URIRef('http://example.org/demonlod/ivoryWand'),)\n",
      "(rdflib.term.URIRef('http://example.org/demonlod/other'),)\n",
      "(rdflib.term.URIRef('http://example.org/demonlod/headrest'),)\n",
      "(rdflib.term.URIRef('http://example.org/demonlod/manuscript'),)\n"
     ]
    }
   ],
   "source": [
    "query = \"\"\"\n",
    "prefix ao: <http://rdf.muninn-project.org/ontologies/appearances#> \n",
    "prefix cf: <http://sites.google.com/site/pierreyvesvandenbussche/resources/ConceptTerms.owl#> \n",
    "prefix crm: <http://www.cidoc-crm.org/cidoc-crm/> \n",
    "prefix dc: <http://purl.org/dc/elements/1.1/> \n",
    "prefix dlod: <http://example.org/demonlod/> \n",
    "prefix icon: <https://w3id.org/icon/ontology/> \n",
    "prefix rdfs: <http://www.w3.org/2000/01/rdf-schema#> \n",
    "prefix skos: <http://www.w3.org/2004/02/skos/core#>\n",
    "\n",
    "SELECT distinct ?typeofmedia where {\n",
    "?media crm:P67_refers_to ?demon;\n",
    "crm:P2_has_type ?typeofmedia}\n",
    "LIMIT 10\"\"\"\n",
    "\n",
    "results = g.query(query)\n",
    "for row in results:\n",
    "    print(row)"
   ]
  },
  {
   "cell_type": "markdown",
   "id": "5f86961e-40fc-4b53-8fad-fd097ab3de9a",
   "metadata": {},
   "source": []
  },
  {
   "cell_type": "markdown",
   "id": "c2f427a2-6ed9-4a04-85bd-524ea610f6b4",
   "metadata": {},
   "source": [
    "# CQ21.2\n",
    "\n",
    "Which demons are represented in temple walls?\n",
    "\n",
    "No temple wall object is defined in DemonThings."
   ]
  },
  {
   "cell_type": "markdown",
   "id": "b2ed0fd5-fcb6-46c4-a533-cea7fd610c2f",
   "metadata": {},
   "source": [
    "# CQ21.3\n",
    "\n",
    "Which demons are represented in coffins?\n",
    "\n",
    "SPARQL"
   ]
  },
  {
   "cell_type": "markdown",
   "id": "09c75b99-a60f-40b9-8666-6bc05f453689",
   "metadata": {},
   "source": [
    "```sparql\n",
    "prefix ao: <http://rdf.muninn-project.org/ontologies/appearances#> \n",
    "prefix cf: <http://sites.google.com/site/pierreyvesvandenbussche/resources/ConceptTerms.owl#> \n",
    "prefix crm: <http://www.cidoc-crm.org/cidoc-crm/> \n",
    "prefix dc: <http://purl.org/dc/elements/1.1/> \n",
    "prefix dlod: <http://example.org/demonlod/> \n",
    "prefix icon: <https://w3id.org/icon/ontology/> \n",
    "prefix rdfs: <http://www.w3.org/2000/01/rdf-schema#> \n",
    "prefix skos: <http://www.w3.org/2004/02/skos/core#>\n",
    "\n",
    "SELECT distinct ?demon where {\n",
    "?media crm:P67_refers_to ?demon;\n",
    "crm:P2_has_type dlod:coffin}\n",
    "LIMIT 10\n",
    "```"
   ]
  },
  {
   "cell_type": "code",
   "execution_count": 46,
   "id": "18d9ba4d-a1a0-4b7b-8687-432ed8b7f296",
   "metadata": {},
   "outputs": [
    {
     "name": "stdout",
     "output_type": "stream",
     "text": [
      "(rdflib.term.URIRef('http://example.org/demonlod/2240'),)\n",
      "(rdflib.term.URIRef('http://example.org/demonlod/1753'),)\n",
      "(rdflib.term.URIRef('http://example.org/demonlod/1859'),)\n",
      "(rdflib.term.URIRef('http://example.org/demonlod/1934'),)\n",
      "(rdflib.term.URIRef('http://example.org/demonlod/2052'),)\n",
      "(rdflib.term.URIRef('http://example.org/demonlod/2051'),)\n",
      "(rdflib.term.URIRef('http://example.org/demonlod/2053'),)\n",
      "(rdflib.term.URIRef('http://example.org/demonlod/2208'),)\n",
      "(rdflib.term.URIRef('http://example.org/demonlod/2278'),)\n",
      "(rdflib.term.URIRef('http://example.org/demonlod/2468'),)\n"
     ]
    }
   ],
   "source": [
    "query = \"\"\"\n",
    "prefix ao: <http://rdf.muninn-project.org/ontologies/appearances#> \n",
    "prefix cf: <http://sites.google.com/site/pierreyvesvandenbussche/resources/ConceptTerms.owl#> \n",
    "prefix crm: <http://www.cidoc-crm.org/cidoc-crm/> \n",
    "prefix dc: <http://purl.org/dc/elements/1.1/> \n",
    "prefix dlod: <http://example.org/demonlod/> \n",
    "prefix icon: <https://w3id.org/icon/ontology/> \n",
    "prefix rdfs: <http://www.w3.org/2000/01/rdf-schema#> \n",
    "prefix skos: <http://www.w3.org/2004/02/skos/core#>\n",
    "\n",
    "SELECT distinct ?demon where {\n",
    "?media crm:P67_refers_to ?demon;\n",
    "crm:P2_has_type dlod:coffin}\n",
    "LIMIT 10\"\"\"\n",
    "\n",
    "results = g.query(query)\n",
    "for row in results:\n",
    "    print(row)"
   ]
  },
  {
   "cell_type": "code",
   "execution_count": null,
   "id": "bb4235e7-5d55-4361-9eeb-8e01a3991f66",
   "metadata": {},
   "outputs": [],
   "source": [
    "# CQ 21.3\n",
    "\n",
    "Which demons are represented in the Book of the Dead spells?\n",
    "\n",
    "SPARQL"
   ]
  },
  {
   "cell_type": "markdown",
   "id": "47e9f4c0-f4cc-4e35-afd4-a60ce8b9c5e8",
   "metadata": {},
   "source": [
    "```sparql\n",
    "prefix ao: <http://rdf.muninn-project.org/ontologies/appearances#> \n",
    "prefix cf: <http://sites.google.com/site/pierreyvesvandenbussche/resources/ConceptTerms.owl#> \n",
    "prefix crm: <http://www.cidoc-crm.org/cidoc-crm/> \n",
    "prefix dc: <http://purl.org/dc/elements/1.1/> \n",
    "prefix dlod: <http://example.org/demonlod/> \n",
    "prefix icon: <https://w3id.org/icon/ontology/> \n",
    "prefix rdfs: <http://www.w3.org/2000/01/rdf-schema#> \n",
    "prefix skos: <http://www.w3.org/2004/02/skos/core#>\n",
    "\n",
    "SELECT distinct ?demon where {\n",
    "?media crm:P67_refers_to ?demon;\n",
    "crm:P2_has_type dlod:BookOfTheDeadChapter}\n",
    "LIMIT 10\n",
    "```"
   ]
  },
  {
   "cell_type": "code",
   "execution_count": 47,
   "id": "dbb262b5-2ae3-442a-847d-435436cdb0a9",
   "metadata": {},
   "outputs": [
    {
     "name": "stdout",
     "output_type": "stream",
     "text": [
      "(rdflib.term.URIRef('http://example.org/demonlod/4132'),)\n",
      "(rdflib.term.URIRef('http://example.org/demonlod/4133'),)\n",
      "(rdflib.term.URIRef('http://example.org/demonlod/3078'),)\n",
      "(rdflib.term.URIRef('http://example.org/demonlod/3079'),)\n",
      "(rdflib.term.URIRef('http://example.org/demonlod/3080'),)\n",
      "(rdflib.term.URIRef('http://example.org/demonlod/3054'),)\n",
      "(rdflib.term.URIRef('http://example.org/demonlod/3075'),)\n",
      "(rdflib.term.URIRef('http://example.org/demonlod/3076'),)\n",
      "(rdflib.term.URIRef('http://example.org/demonlod/3077'),)\n",
      "(rdflib.term.URIRef('http://example.org/demonlod/3099'),)\n"
     ]
    }
   ],
   "source": [
    "query = \"\"\"\n",
    "prefix ao: <http://rdf.muninn-project.org/ontologies/appearances#> \n",
    "prefix cf: <http://sites.google.com/site/pierreyvesvandenbussche/resources/ConceptTerms.owl#> \n",
    "prefix crm: <http://www.cidoc-crm.org/cidoc-crm/> \n",
    "prefix dc: <http://purl.org/dc/elements/1.1/> \n",
    "prefix dlod: <http://example.org/demonlod/> \n",
    "prefix icon: <https://w3id.org/icon/ontology/> \n",
    "prefix rdfs: <http://www.w3.org/2000/01/rdf-schema#> \n",
    "prefix skos: <http://www.w3.org/2004/02/skos/core#>\n",
    "\n",
    "SELECT distinct ?demon where {\n",
    "?media crm:P67_refers_to ?demon;\n",
    "crm:P2_has_type dlod:BookOfTheDeadChapter}\n",
    "LIMIT 10\"\"\"\n",
    "\n",
    "results = g.query(query)\n",
    "for row in results:\n",
    "    print(row)"
   ]
  },
  {
   "cell_type": "code",
   "execution_count": null,
   "id": "7b0a3bf4-3afe-4692-be46-64e44701ca2d",
   "metadata": {},
   "outputs": [],
   "source": []
  }
 ],
 "metadata": {
  "kernelspec": {
   "display_name": "Python 3 (ipykernel)",
   "language": "python",
   "name": "python3"
  },
  "language_info": {
   "codemirror_mode": {
    "name": "ipython",
    "version": 3
   },
   "file_extension": ".py",
   "mimetype": "text/x-python",
   "name": "python",
   "nbconvert_exporter": "python",
   "pygments_lexer": "ipython3",
   "version": "3.8.10"
  }
 },
 "nbformat": 4,
 "nbformat_minor": 5
}
